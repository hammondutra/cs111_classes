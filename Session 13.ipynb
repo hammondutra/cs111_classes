{
 "cells": [
  {
   "cell_type": "code",
   "execution_count": 6,
   "id": "0827761b",
   "metadata": {
    "vscode": {
     "languageId": "sage"
    }
   },
   "outputs": [
    {
     "name": "stdout",
     "output_type": "stream",
     "text": [
      "-(2*x*y^3 + (x^2 - 6)*y^2)/(x^2 + 2*x*y + y^2)\n",
      "-(2*x^3*y + x^2*y^2 - 6*x^2)/(x^2 + 2*x*y + y^2)\n"
     ]
    }
   ],
   "source": [
    "# Objective Function\n",
    "var('x, y')\n",
    "V(x, y) = (6*x*y -x^2*y^2) / (x+y)\n",
    "\n",
    "dfdx = V.diff(x)\n",
    "print(dfdx.simplify_full())\n",
    "\n",
    "dfdy = V.diff(y)\n",
    "print(dfdy.simplify_full())"
   ]
  },
  {
   "cell_type": "code",
   "execution_count": 16,
   "id": "847e5e12",
   "metadata": {
    "vscode": {
     "languageId": "sage"
    }
   },
   "outputs": [
    {
     "name": "stdout",
     "output_type": "stream",
     "text": [
      "-sqrt(2)\n",
      "-sqrt(2)\n",
      "-1/2*sqrt(2)\n",
      "3/2\n"
     ]
    }
   ],
   "source": [
    "dfdxdx = dfdx.diff(x)\n",
    "\n",
    "print(dfdxdx(sqrt(2), sqrt(2)))\n",
    "\n",
    "dfdydy = dfdy.diff(y)\n",
    "print(dfdydy(sqrt(2), sqrt(2)))\n",
    "\n",
    "dfdxdy = dfdx.diff(y)\n",
    "print(dfdxdy(sqrt(2), sqrt(2)))\n",
    "\n",
    "D = dfdxdx(sqrt(2), sqrt(2)) * dfdydy(sqrt(2), sqrt(2)) - (dfdxdy(sqrt(2), sqrt(2)))^2\n",
    "print(D)"
   ]
  }
 ],
 "metadata": {
  "kernelspec": {
   "display_name": "SageMath 10.7",
   "language": "sage",
   "name": "SageMath-10.7"
  },
  "language_info": {
   "codemirror_mode": {
    "name": "ipython",
    "version": 3
   },
   "file_extension": ".py",
   "mimetype": "text/x-python",
   "name": "python",
   "nbconvert_exporter": "python",
   "pygments_lexer": "ipython3",
   "version": "3.13.3"
  }
 },
 "nbformat": 4,
 "nbformat_minor": 5
}
